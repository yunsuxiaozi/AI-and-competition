{
 "cells": [
  {
   "cell_type": "markdown",
   "id": "0e5116e0",
   "metadata": {
    "papermill": {
     "duration": 0.004382,
     "end_time": "2025-03-12T10:32:22.895626",
     "exception": false,
     "start_time": "2025-03-12T10:32:22.891244",
     "status": "completed"
    },
    "tags": []
   },
   "source": [
    "##  数据预处理。"
   ]
  },
  {
   "cell_type": "code",
   "execution_count": 1,
   "id": "2712f2f8",
   "metadata": {
    "execution": {
     "iopub.execute_input": "2025-03-12T10:32:22.903390Z",
     "iopub.status.busy": "2025-03-12T10:32:22.903054Z",
     "iopub.status.idle": "2025-03-12T10:32:22.917243Z",
     "shell.execute_reply": "2025-03-12T10:32:22.915555Z"
    },
    "papermill": {
     "duration": 0.020281,
     "end_time": "2025-03-12T10:32:22.919155",
     "exception": false,
     "start_time": "2025-03-12T10:32:22.898874",
     "status": "completed"
    },
    "tags": []
   },
   "outputs": [
    {
     "name": "stdout",
     "output_type": "stream",
     "text": [
      "为了上传到Kaggle平台,我对文件名进行了改变.根据年份应该能够知道4个文件的对应关系:\n",
      "['A-X2014-2019.csv', 'A-y2014-2019.csv', 'example_submission.csv', 'A-X2020-2021.csv']\n"
     ]
    }
   ],
   "source": [
    "import os#与操作系统进行交互的库\n",
    "print(f\"为了上传到Kaggle平台,我对文件名进行了改变.根据年份应该能够知道4个文件的对应关系:\\n{os.listdir('/kaggle/input/dcic-a/2025DCIC/')}\")"
   ]
  },
  {
   "cell_type": "code",
   "execution_count": 2,
   "id": "ef28d482",
   "metadata": {
    "_cell_guid": "b1076dfc-b9ad-4769-8c92-a6c4dae69d19",
    "_uuid": "8f2839f25d086af736a60e9eeb907d3b93b6e0e5",
    "execution": {
     "iopub.execute_input": "2025-03-12T10:32:22.927911Z",
     "iopub.status.busy": "2025-03-12T10:32:22.927590Z",
     "iopub.status.idle": "2025-03-12T10:32:23.901579Z",
     "shell.execute_reply": "2025-03-12T10:32:23.900642Z"
    },
    "papermill": {
     "duration": 0.980217,
     "end_time": "2025-03-12T10:32:23.903297",
     "exception": false,
     "start_time": "2025-03-12T10:32:22.923080",
     "status": "completed"
    },
    "tags": []
   },
   "outputs": [],
   "source": [
    "import pandas as pd#read csv,parquet\n",
    "import numpy as np#for scientific computation of matrices\n",
    "import warnings#avoid some negligible errors\n",
    "#The filterwarnings () method is used to set warning filters, which can control the output method and level of warning information.\n",
    "warnings.filterwarnings('ignore')"
   ]
  },
  {
   "cell_type": "code",
   "execution_count": 3,
   "id": "2da7dbfd",
   "metadata": {
    "execution": {
     "iopub.execute_input": "2025-03-12T10:32:23.911596Z",
     "iopub.status.busy": "2025-03-12T10:32:23.911036Z",
     "iopub.status.idle": "2025-03-12T10:32:40.528753Z",
     "shell.execute_reply": "2025-03-12T10:32:40.527334Z"
    },
    "papermill": {
     "duration": 16.623763,
     "end_time": "2025-03-12T10:32:40.530676",
     "exception": false,
     "start_time": "2025-03-12T10:32:23.906913",
     "status": "completed"
    },
    "tags": []
   },
   "outputs": [
    {
     "name": "stdout",
     "output_type": "stream",
     "text": [
      "df.shape:(4564507, 14).\n",
      " df.nunique:NAME        125\n",
      "SENID       127\n",
      "TIME     227120\n",
      "V          3387\n",
      "AVGV       2947\n",
      "MAXV       1197\n",
      "MAXT     588903\n",
      "MINV       1204\n",
      "MINT     588887\n",
      "S             5\n",
      "AVGS          5\n",
      "MAXS          5\n",
      "MINS          5\n",
      "SPAN          1\n",
      "dtype: int64\n"
     ]
    }
   ],
   "source": [
    "df=pd.concat([ pd.read_csv(\"/kaggle/input/dcic-a/2025DCIC/A-X2014-2019.csv\"),\n",
    "               pd.read_csv(\"/kaggle/input/dcic-a/2025DCIC/A-X2020-2021.csv\")\n",
    "          ])\n",
    "print(f\"df.shape:{df.shape}.\\n df.nunique:{df.nunique()}\")"
   ]
  },
  {
   "cell_type": "markdown",
   "id": "ced33772",
   "metadata": {
    "execution": {
     "iopub.execute_input": "2025-03-12T09:41:32.353905Z",
     "iopub.status.busy": "2025-03-12T09:41:32.353439Z",
     "iopub.status.idle": "2025-03-12T09:41:32.744651Z",
     "shell.execute_reply": "2025-03-12T09:41:32.743276Z",
     "shell.execute_reply.started": "2025-03-12T09:41:32.353863Z"
    },
    "papermill": {
     "duration": 0.003022,
     "end_time": "2025-03-12T10:32:40.537691",
     "exception": false,
     "start_time": "2025-03-12T10:32:40.534669",
     "status": "completed"
    },
    "tags": []
   },
   "source": [
    "我们可以发现NAME和SENID不是一一对应关系,一个村子可以有2个SENID,同时SPAN只有唯一值,没有什么用.\n",
    "\n",
    "我们先对数据按时间排序,然后填充缺失值,时间序列数据可以用前向填充,也就是填充上一个时刻的数值."
   ]
  },
  {
   "cell_type": "code",
   "execution_count": 4,
   "id": "5fa4616d",
   "metadata": {
    "execution": {
     "iopub.execute_input": "2025-03-12T10:32:40.545329Z",
     "iopub.status.busy": "2025-03-12T10:32:40.545021Z",
     "iopub.status.idle": "2025-03-12T10:32:46.970504Z",
     "shell.execute_reply": "2025-03-12T10:32:46.969514Z"
    },
    "papermill": {
     "duration": 6.430933,
     "end_time": "2025-03-12T10:32:46.971881",
     "exception": false,
     "start_time": "2025-03-12T10:32:40.540948",
     "status": "completed"
    },
    "tags": []
   },
   "outputs": [
    {
     "data": {
      "text/html": [
       "<div>\n",
       "<style scoped>\n",
       "    .dataframe tbody tr th:only-of-type {\n",
       "        vertical-align: middle;\n",
       "    }\n",
       "\n",
       "    .dataframe tbody tr th {\n",
       "        vertical-align: top;\n",
       "    }\n",
       "\n",
       "    .dataframe thead th {\n",
       "        text-align: right;\n",
       "    }\n",
       "</style>\n",
       "<table border=\"1\" class=\"dataframe\">\n",
       "  <thead>\n",
       "    <tr style=\"text-align: right;\">\n",
       "      <th></th>\n",
       "      <th>NAME</th>\n",
       "      <th>SENID</th>\n",
       "      <th>TIME</th>\n",
       "      <th>V</th>\n",
       "      <th>AVGV</th>\n",
       "      <th>MAXV</th>\n",
       "      <th>MAXT</th>\n",
       "      <th>MINV</th>\n",
       "      <th>MINT</th>\n",
       "      <th>S</th>\n",
       "      <th>AVGS</th>\n",
       "      <th>MAXS</th>\n",
       "      <th>MINS</th>\n",
       "      <th>SPAN</th>\n",
       "    </tr>\n",
       "  </thead>\n",
       "  <tbody>\n",
       "    <tr>\n",
       "      <th>0</th>\n",
       "      <td>下洋坂雨量</td>\n",
       "      <td>210254</td>\n",
       "      <td>2014-01-08 05:00:00</td>\n",
       "      <td>4.0</td>\n",
       "      <td>4.0</td>\n",
       "      <td>4.0</td>\n",
       "      <td>2014/1/8 5:00:00</td>\n",
       "      <td>4.0</td>\n",
       "      <td>2014/1/8 5:00:00</td>\n",
       "      <td>1.0</td>\n",
       "      <td>1.0</td>\n",
       "      <td>2.0</td>\n",
       "      <td>2.0</td>\n",
       "      <td>1</td>\n",
       "    </tr>\n",
       "    <tr>\n",
       "      <th>1</th>\n",
       "      <td>下洋坂雨量</td>\n",
       "      <td>210254</td>\n",
       "      <td>2014-01-13 22:00:00</td>\n",
       "      <td>1.0</td>\n",
       "      <td>1.0</td>\n",
       "      <td>1.0</td>\n",
       "      <td>2014/1/13 22:00:00</td>\n",
       "      <td>1.0</td>\n",
       "      <td>2014/1/13 22:00:00</td>\n",
       "      <td>1.0</td>\n",
       "      <td>1.0</td>\n",
       "      <td>2.0</td>\n",
       "      <td>2.0</td>\n",
       "      <td>1</td>\n",
       "    </tr>\n",
       "    <tr>\n",
       "      <th>2</th>\n",
       "      <td>下洋坂雨量</td>\n",
       "      <td>210254</td>\n",
       "      <td>2014-01-14 00:00:00</td>\n",
       "      <td>1.0</td>\n",
       "      <td>1.0</td>\n",
       "      <td>1.0</td>\n",
       "      <td>2014/1/14</td>\n",
       "      <td>1.0</td>\n",
       "      <td>2014/1/14</td>\n",
       "      <td>1.0</td>\n",
       "      <td>1.0</td>\n",
       "      <td>2.0</td>\n",
       "      <td>2.0</td>\n",
       "      <td>1</td>\n",
       "    </tr>\n",
       "    <tr>\n",
       "      <th>3</th>\n",
       "      <td>下洋坂雨量</td>\n",
       "      <td>210254</td>\n",
       "      <td>2014-01-14 01:00:00</td>\n",
       "      <td>1.0</td>\n",
       "      <td>1.0</td>\n",
       "      <td>1.0</td>\n",
       "      <td>2014/1/14 1:00:00</td>\n",
       "      <td>1.0</td>\n",
       "      <td>2014/1/14 1:00:00</td>\n",
       "      <td>1.0</td>\n",
       "      <td>1.0</td>\n",
       "      <td>2.0</td>\n",
       "      <td>2.0</td>\n",
       "      <td>1</td>\n",
       "    </tr>\n",
       "    <tr>\n",
       "      <th>4</th>\n",
       "      <td>下洋坂雨量</td>\n",
       "      <td>210254</td>\n",
       "      <td>2014-01-14 04:00:00</td>\n",
       "      <td>1.0</td>\n",
       "      <td>1.0</td>\n",
       "      <td>1.0</td>\n",
       "      <td>2014/1/14 4:00:00</td>\n",
       "      <td>1.0</td>\n",
       "      <td>2014/1/14 4:00:00</td>\n",
       "      <td>1.0</td>\n",
       "      <td>1.0</td>\n",
       "      <td>2.0</td>\n",
       "      <td>2.0</td>\n",
       "      <td>1</td>\n",
       "    </tr>\n",
       "  </tbody>\n",
       "</table>\n",
       "</div>"
      ],
      "text/plain": [
       "    NAME   SENID                 TIME    V  AVGV  MAXV                MAXT  \\\n",
       "0  下洋坂雨量  210254  2014-01-08 05:00:00  4.0   4.0   4.0    2014/1/8 5:00:00   \n",
       "1  下洋坂雨量  210254  2014-01-13 22:00:00  1.0   1.0   1.0  2014/1/13 22:00:00   \n",
       "2  下洋坂雨量  210254  2014-01-14 00:00:00  1.0   1.0   1.0           2014/1/14   \n",
       "3  下洋坂雨量  210254  2014-01-14 01:00:00  1.0   1.0   1.0   2014/1/14 1:00:00   \n",
       "4  下洋坂雨量  210254  2014-01-14 04:00:00  1.0   1.0   1.0   2014/1/14 4:00:00   \n",
       "\n",
       "   MINV                MINT    S  AVGS  MAXS  MINS  SPAN  \n",
       "0   4.0    2014/1/8 5:00:00  1.0   1.0   2.0   2.0     1  \n",
       "1   1.0  2014/1/13 22:00:00  1.0   1.0   2.0   2.0     1  \n",
       "2   1.0           2014/1/14  1.0   1.0   2.0   2.0     1  \n",
       "3   1.0   2014/1/14 1:00:00  1.0   1.0   2.0   2.0     1  \n",
       "4   1.0   2014/1/14 4:00:00  1.0   1.0   2.0   2.0     1  "
      ]
     },
     "execution_count": 4,
     "metadata": {},
     "output_type": "execute_result"
    }
   ],
   "source": [
    "df=df.sort_values(['SENID','TIME'])\n",
    "df=df.groupby('SENID')[df.columns].fillna(method='ffill').reset_index(drop=True)\n",
    "df.head()"
   ]
  },
  {
   "cell_type": "markdown",
   "id": "5a8a00f0",
   "metadata": {
    "papermill": {
     "duration": 0.00335,
     "end_time": "2025-03-12T10:32:46.979176",
     "exception": false,
     "start_time": "2025-03-12T10:32:46.975826",
     "status": "completed"
    },
    "tags": []
   },
   "source": [
    "对于日期数据,我们可以用MAXT减去MINT. 考虑到MAXT减MINT为0的占比大于90%,我们可以直接把数据分为0和不为0这2种类别。"
   ]
  },
  {
   "cell_type": "code",
   "execution_count": 5,
   "id": "a89a205c",
   "metadata": {
    "execution": {
     "iopub.execute_input": "2025-03-12T10:32:46.988062Z",
     "iopub.status.busy": "2025-03-12T10:32:46.987679Z",
     "iopub.status.idle": "2025-03-12T10:33:14.036911Z",
     "shell.execute_reply": "2025-03-12T10:33:14.034941Z"
    },
    "papermill": {
     "duration": 27.055159,
     "end_time": "2025-03-12T10:33:14.038382",
     "exception": false,
     "start_time": "2025-03-12T10:32:46.983223",
     "status": "completed"
    },
    "tags": []
   },
   "outputs": [
    {
     "name": "stdout",
     "output_type": "stream",
     "text": [
      "nunique:53\n",
      "MAXT_MINT为0的占比为:0.9385773753879664%.\n"
     ]
    }
   ],
   "source": [
    "df['MAXT_MINT']=(pd.to_datetime(df['MAXT'],errors='coerce')-pd.to_datetime(df['MINT'],errors='coerce')).dt.seconds\n",
    "print(f\"nunique:{df['MAXT_MINT'].nunique()}\")\n",
    "print(f\"MAXT_MINT为0的占比为:{len(df[df['MAXT_MINT']==0]*100)/len(df)}%.\")"
   ]
  },
  {
   "cell_type": "markdown",
   "id": "6fc0265d",
   "metadata": {
    "papermill": {
     "duration": 0.003327,
     "end_time": "2025-03-12T10:33:14.046652",
     "exception": false,
     "start_time": "2025-03-12T10:33:14.043325",
     "status": "completed"
    },
    "tags": []
   },
   "source": [
    "我们可以看到,很多特征表面上是连续型变量,我们其实也可以把它们当成类别型变量,进行简单的onehot编码之后再进行相关的操作。"
   ]
  },
  {
   "cell_type": "code",
   "execution_count": 6,
   "id": "7d68b763",
   "metadata": {
    "execution": {
     "iopub.execute_input": "2025-03-12T10:33:14.055113Z",
     "iopub.status.busy": "2025-03-12T10:33:14.054772Z",
     "iopub.status.idle": "2025-03-12T10:33:18.408632Z",
     "shell.execute_reply": "2025-03-12T10:33:18.407212Z"
    },
    "papermill": {
     "duration": 4.359955,
     "end_time": "2025-03-12T10:33:18.410156",
     "exception": false,
     "start_time": "2025-03-12T10:33:14.050201",
     "status": "completed"
    },
    "tags": []
   },
   "outputs": [
    {
     "name": "stdout",
     "output_type": "stream",
     "text": [
      "特征SENID的占比为:4.585708818060746%\n",
      "特征V的占比为:86.83139274405757%\n",
      "特征AVGV的占比为:80.54845791670382%\n",
      "特征MAXV的占比为:80.76911701526583%\n",
      "特征MINV的占比为:80.66674013206683%\n",
      "特征S的占比为:97.19538166991528%\n",
      "特征AVGS的占比为:54.44169545582908%\n",
      "特征MAXS的占比为:54.450655897778226%\n",
      "特征MINS的占比为:54.44044669008066%\n",
      "特征SPAN的占比为:100.0%\n",
      "特征MAXT_MINT的占比为:93.85773753879663%\n"
     ]
    }
   ],
   "source": [
    "for c in df.columns:\n",
    "    if df[c].dtype!=object:\n",
    "        most_v=df[c].value_counts().keys()[0]\n",
    "        print(f\"特征{c}的占比为:{len(df[df[c]==most_v])*100/len(df)}%\")"
   ]
  },
  {
   "cell_type": "markdown",
   "id": "2a829a7d",
   "metadata": {
    "papermill": {
     "duration": 0.003731,
     "end_time": "2025-03-12T10:33:18.418359",
     "exception": false,
     "start_time": "2025-03-12T10:33:18.414628",
     "status": "completed"
    },
    "tags": []
   },
   "source": [
    "## 建模思路: 根据其他SENID在某个时刻的groupby特征去预测入库流量在这个时刻的V,所以目前就是要构造出更多表示某个时刻的特征."
   ]
  },
  {
   "cell_type": "markdown",
   "id": "e8ca6f72",
   "metadata": {
    "papermill": {
     "duration": 0.003695,
     "end_time": "2025-03-12T10:33:18.425940",
     "exception": false,
     "start_time": "2025-03-12T10:33:18.422245",
     "status": "completed"
    },
    "tags": []
   },
   "source": [
    "## 特征工程.\n",
    "\n",
    "下面以特征V举例来说明几种常见的特征工程。\n",
    "\n",
    "## Z-score"
   ]
  },
  {
   "cell_type": "code",
   "execution_count": 7,
   "id": "6ecb6367",
   "metadata": {
    "execution": {
     "iopub.execute_input": "2025-03-12T10:33:18.435687Z",
     "iopub.status.busy": "2025-03-12T10:33:18.435273Z",
     "iopub.status.idle": "2025-03-12T10:33:21.280211Z",
     "shell.execute_reply": "2025-03-12T10:33:21.279256Z"
    },
    "papermill": {
     "duration": 2.852152,
     "end_time": "2025-03-12T10:33:21.282063",
     "exception": false,
     "start_time": "2025-03-12T10:33:18.429911",
     "status": "completed"
    },
    "tags": []
   },
   "outputs": [
    {
     "data": {
      "text/html": [
       "<div>\n",
       "<style scoped>\n",
       "    .dataframe tbody tr th:only-of-type {\n",
       "        vertical-align: middle;\n",
       "    }\n",
       "\n",
       "    .dataframe tbody tr th {\n",
       "        vertical-align: top;\n",
       "    }\n",
       "\n",
       "    .dataframe thead th {\n",
       "        text-align: right;\n",
       "    }\n",
       "</style>\n",
       "<table border=\"1\" class=\"dataframe\">\n",
       "  <thead>\n",
       "    <tr style=\"text-align: right;\">\n",
       "      <th></th>\n",
       "      <th>NAME</th>\n",
       "      <th>SENID</th>\n",
       "      <th>TIME</th>\n",
       "      <th>V</th>\n",
       "      <th>AVGV</th>\n",
       "      <th>MAXV</th>\n",
       "      <th>MAXT</th>\n",
       "      <th>MINV</th>\n",
       "      <th>MINT</th>\n",
       "      <th>S</th>\n",
       "      <th>AVGS</th>\n",
       "      <th>MAXS</th>\n",
       "      <th>MINS</th>\n",
       "      <th>SPAN</th>\n",
       "      <th>MAXT_MINT</th>\n",
       "      <th>V_mean</th>\n",
       "      <th>V_std</th>\n",
       "      <th>V_zscore</th>\n",
       "    </tr>\n",
       "  </thead>\n",
       "  <tbody>\n",
       "    <tr>\n",
       "      <th>0</th>\n",
       "      <td>下洋坂雨量</td>\n",
       "      <td>210254</td>\n",
       "      <td>2014-01-08 05:00:00</td>\n",
       "      <td>4.0</td>\n",
       "      <td>4.0</td>\n",
       "      <td>4.0</td>\n",
       "      <td>2014/1/8 5:00:00</td>\n",
       "      <td>4.0</td>\n",
       "      <td>2014/1/8 5:00:00</td>\n",
       "      <td>1.0</td>\n",
       "      <td>1.0</td>\n",
       "      <td>2.0</td>\n",
       "      <td>2.0</td>\n",
       "      <td>1</td>\n",
       "      <td>0.0</td>\n",
       "      <td>1.726229</td>\n",
       "      <td>1.210547</td>\n",
       "      <td>1.878302</td>\n",
       "    </tr>\n",
       "    <tr>\n",
       "      <th>1</th>\n",
       "      <td>下洋坂雨量</td>\n",
       "      <td>210254</td>\n",
       "      <td>2014-01-13 22:00:00</td>\n",
       "      <td>1.0</td>\n",
       "      <td>1.0</td>\n",
       "      <td>1.0</td>\n",
       "      <td>2014/1/13 22:00:00</td>\n",
       "      <td>1.0</td>\n",
       "      <td>2014/1/13 22:00:00</td>\n",
       "      <td>1.0</td>\n",
       "      <td>1.0</td>\n",
       "      <td>2.0</td>\n",
       "      <td>2.0</td>\n",
       "      <td>1</td>\n",
       "      <td>0.0</td>\n",
       "      <td>0.712068</td>\n",
       "      <td>0.450738</td>\n",
       "      <td>0.638802</td>\n",
       "    </tr>\n",
       "    <tr>\n",
       "      <th>2</th>\n",
       "      <td>下洋坂雨量</td>\n",
       "      <td>210254</td>\n",
       "      <td>2014-01-14 00:00:00</td>\n",
       "      <td>1.0</td>\n",
       "      <td>1.0</td>\n",
       "      <td>1.0</td>\n",
       "      <td>2014/1/14</td>\n",
       "      <td>1.0</td>\n",
       "      <td>2014/1/14</td>\n",
       "      <td>1.0</td>\n",
       "      <td>1.0</td>\n",
       "      <td>2.0</td>\n",
       "      <td>2.0</td>\n",
       "      <td>1</td>\n",
       "      <td>NaN</td>\n",
       "      <td>0.780227</td>\n",
       "      <td>0.486808</td>\n",
       "      <td>0.451457</td>\n",
       "    </tr>\n",
       "    <tr>\n",
       "      <th>3</th>\n",
       "      <td>下洋坂雨量</td>\n",
       "      <td>210254</td>\n",
       "      <td>2014-01-14 01:00:00</td>\n",
       "      <td>1.0</td>\n",
       "      <td>1.0</td>\n",
       "      <td>1.0</td>\n",
       "      <td>2014/1/14 1:00:00</td>\n",
       "      <td>1.0</td>\n",
       "      <td>2014/1/14 1:00:00</td>\n",
       "      <td>1.0</td>\n",
       "      <td>1.0</td>\n",
       "      <td>2.0</td>\n",
       "      <td>2.0</td>\n",
       "      <td>1</td>\n",
       "      <td>0.0</td>\n",
       "      <td>0.841294</td>\n",
       "      <td>0.572785</td>\n",
       "      <td>0.277077</td>\n",
       "    </tr>\n",
       "    <tr>\n",
       "      <th>4</th>\n",
       "      <td>下洋坂雨量</td>\n",
       "      <td>210254</td>\n",
       "      <td>2014-01-14 04:00:00</td>\n",
       "      <td>1.0</td>\n",
       "      <td>1.0</td>\n",
       "      <td>1.0</td>\n",
       "      <td>2014/1/14 4:00:00</td>\n",
       "      <td>1.0</td>\n",
       "      <td>2014/1/14 4:00:00</td>\n",
       "      <td>1.0</td>\n",
       "      <td>1.0</td>\n",
       "      <td>2.0</td>\n",
       "      <td>2.0</td>\n",
       "      <td>1</td>\n",
       "      <td>0.0</td>\n",
       "      <td>0.274946</td>\n",
       "      <td>0.422485</td>\n",
       "      <td>1.716163</td>\n",
       "    </tr>\n",
       "  </tbody>\n",
       "</table>\n",
       "</div>"
      ],
      "text/plain": [
       "    NAME   SENID                 TIME    V  AVGV  MAXV                MAXT  \\\n",
       "0  下洋坂雨量  210254  2014-01-08 05:00:00  4.0   4.0   4.0    2014/1/8 5:00:00   \n",
       "1  下洋坂雨量  210254  2014-01-13 22:00:00  1.0   1.0   1.0  2014/1/13 22:00:00   \n",
       "2  下洋坂雨量  210254  2014-01-14 00:00:00  1.0   1.0   1.0           2014/1/14   \n",
       "3  下洋坂雨量  210254  2014-01-14 01:00:00  1.0   1.0   1.0   2014/1/14 1:00:00   \n",
       "4  下洋坂雨量  210254  2014-01-14 04:00:00  1.0   1.0   1.0   2014/1/14 4:00:00   \n",
       "\n",
       "   MINV                MINT    S  AVGS  MAXS  MINS  SPAN  MAXT_MINT    V_mean  \\\n",
       "0   4.0    2014/1/8 5:00:00  1.0   1.0   2.0   2.0     1        0.0  1.726229   \n",
       "1   1.0  2014/1/13 22:00:00  1.0   1.0   2.0   2.0     1        0.0  0.712068   \n",
       "2   1.0           2014/1/14  1.0   1.0   2.0   2.0     1        NaN  0.780227   \n",
       "3   1.0   2014/1/14 1:00:00  1.0   1.0   2.0   2.0     1        0.0  0.841294   \n",
       "4   1.0   2014/1/14 4:00:00  1.0   1.0   2.0   2.0     1        0.0  0.274946   \n",
       "\n",
       "      V_std  V_zscore  \n",
       "0  1.210547  1.878302  \n",
       "1  0.450738  0.638802  \n",
       "2  0.486808  0.451457  \n",
       "3  0.572785  0.277077  \n",
       "4  0.422485  1.716163  "
      ]
     },
     "execution_count": 7,
     "metadata": {},
     "output_type": "execute_result"
    }
   ],
   "source": [
    "df[f'V_mean']=df.groupby(['TIME'])['V'].transform('mean')\n",
    "df[f'V_std']=df.groupby(['TIME'])['V'].transform('std')\n",
    "df[f'V_zscore']=(df['V']-df[f'V_mean'])/(df[f'V_std']+1e-10)\n",
    "df.head()"
   ]
  },
  {
   "cell_type": "markdown",
   "id": "fb97f8cf",
   "metadata": {
    "papermill": {
     "duration": 0.004079,
     "end_time": "2025-03-12T10:33:21.291015",
     "exception": false,
     "start_time": "2025-03-12T10:33:21.286936",
     "status": "completed"
    },
    "tags": []
   },
   "source": [
    "虽然表面上只是进行了缩放,但是由于每个TIME的mean和std是不一样的,所以V_zscore和V还是有很大的区别的。"
   ]
  },
  {
   "cell_type": "code",
   "execution_count": 8,
   "id": "8016a364",
   "metadata": {
    "execution": {
     "iopub.execute_input": "2025-03-12T10:33:21.300833Z",
     "iopub.status.busy": "2025-03-12T10:33:21.300566Z",
     "iopub.status.idle": "2025-03-12T10:33:21.412605Z",
     "shell.execute_reply": "2025-03-12T10:33:21.411582Z"
    },
    "papermill": {
     "duration": 0.118932,
     "end_time": "2025-03-12T10:33:21.414211",
     "exception": false,
     "start_time": "2025-03-12T10:33:21.295279",
     "status": "completed"
    },
    "tags": []
   },
   "outputs": [
    {
     "data": {
      "text/html": [
       "<div>\n",
       "<style scoped>\n",
       "    .dataframe tbody tr th:only-of-type {\n",
       "        vertical-align: middle;\n",
       "    }\n",
       "\n",
       "    .dataframe tbody tr th {\n",
       "        vertical-align: top;\n",
       "    }\n",
       "\n",
       "    .dataframe thead th {\n",
       "        text-align: right;\n",
       "    }\n",
       "</style>\n",
       "<table border=\"1\" class=\"dataframe\">\n",
       "  <thead>\n",
       "    <tr style=\"text-align: right;\">\n",
       "      <th></th>\n",
       "      <th>V</th>\n",
       "      <th>V_zscore</th>\n",
       "    </tr>\n",
       "  </thead>\n",
       "  <tbody>\n",
       "    <tr>\n",
       "      <th>V</th>\n",
       "      <td>1.000000</td>\n",
       "      <td>0.068874</td>\n",
       "    </tr>\n",
       "    <tr>\n",
       "      <th>V_zscore</th>\n",
       "      <td>0.068874</td>\n",
       "      <td>1.000000</td>\n",
       "    </tr>\n",
       "  </tbody>\n",
       "</table>\n",
       "</div>"
      ],
      "text/plain": [
       "                 V  V_zscore\n",
       "V         1.000000  0.068874\n",
       "V_zscore  0.068874  1.000000"
      ]
     },
     "execution_count": 8,
     "metadata": {},
     "output_type": "execute_result"
    }
   ],
   "source": [
    "df[['V','V_zscore']].corr()"
   ]
  },
  {
   "cell_type": "markdown",
   "id": "a0b41b40",
   "metadata": {
    "papermill": {
     "duration": 0.004175,
     "end_time": "2025-03-12T10:33:21.423470",
     "exception": false,
     "start_time": "2025-03-12T10:33:21.419295",
     "status": "completed"
    },
    "tags": []
   },
   "source": [
    "## diff和shift特征"
   ]
  },
  {
   "cell_type": "code",
   "execution_count": 9,
   "id": "9695ca95",
   "metadata": {
    "execution": {
     "iopub.execute_input": "2025-03-12T10:33:21.433785Z",
     "iopub.status.busy": "2025-03-12T10:33:21.433414Z",
     "iopub.status.idle": "2025-03-12T10:33:24.415409Z",
     "shell.execute_reply": "2025-03-12T10:33:24.414210Z"
    },
    "papermill": {
     "duration": 2.98915,
     "end_time": "2025-03-12T10:33:24.417066",
     "exception": false,
     "start_time": "2025-03-12T10:33:21.427916",
     "status": "completed"
    },
    "tags": []
   },
   "outputs": [],
   "source": [
    "for gap in [1]:\n",
    "    df['V_shift1']=df.groupby(['TIME'])['V'].shift(gap)\n",
    "    df['V_diff1']=df.groupby(['TIME'])['V'].diff(gap)"
   ]
  },
  {
   "cell_type": "markdown",
   "id": "3bc762b3",
   "metadata": {
    "papermill": {
     "duration": 0.004023,
     "end_time": "2025-03-12T10:33:24.425813",
     "exception": false,
     "start_time": "2025-03-12T10:33:24.421790",
     "status": "completed"
    },
    "tags": []
   },
   "source": [
    "## 滑动窗口"
   ]
  },
  {
   "cell_type": "code",
   "execution_count": 10,
   "id": "3cef1640",
   "metadata": {
    "execution": {
     "iopub.execute_input": "2025-03-12T10:33:24.435092Z",
     "iopub.status.busy": "2025-03-12T10:33:24.434845Z",
     "iopub.status.idle": "2025-03-12T10:33:24.709406Z",
     "shell.execute_reply": "2025-03-12T10:33:24.708551Z"
    },
    "papermill": {
     "duration": 0.281357,
     "end_time": "2025-03-12T10:33:24.711170",
     "exception": false,
     "start_time": "2025-03-12T10:33:24.429813",
     "status": "completed"
    },
    "tags": []
   },
   "outputs": [
    {
     "data": {
      "text/html": [
       "<div>\n",
       "<style scoped>\n",
       "    .dataframe tbody tr th:only-of-type {\n",
       "        vertical-align: middle;\n",
       "    }\n",
       "\n",
       "    .dataframe tbody tr th {\n",
       "        vertical-align: top;\n",
       "    }\n",
       "\n",
       "    .dataframe thead th {\n",
       "        text-align: right;\n",
       "    }\n",
       "</style>\n",
       "<table border=\"1\" class=\"dataframe\">\n",
       "  <thead>\n",
       "    <tr style=\"text-align: right;\">\n",
       "      <th></th>\n",
       "      <th>NAME</th>\n",
       "      <th>SENID</th>\n",
       "      <th>TIME</th>\n",
       "      <th>V</th>\n",
       "      <th>AVGV</th>\n",
       "      <th>MAXV</th>\n",
       "      <th>MAXT</th>\n",
       "      <th>MINV</th>\n",
       "      <th>MINT</th>\n",
       "      <th>S</th>\n",
       "      <th>...</th>\n",
       "      <th>MAXS</th>\n",
       "      <th>MINS</th>\n",
       "      <th>SPAN</th>\n",
       "      <th>MAXT_MINT</th>\n",
       "      <th>V_mean</th>\n",
       "      <th>V_std</th>\n",
       "      <th>V_zscore</th>\n",
       "      <th>V_shift1</th>\n",
       "      <th>V_diff1</th>\n",
       "      <th>V_rolling3_mean</th>\n",
       "    </tr>\n",
       "  </thead>\n",
       "  <tbody>\n",
       "    <tr>\n",
       "      <th>0</th>\n",
       "      <td>下洋坂雨量</td>\n",
       "      <td>210254</td>\n",
       "      <td>2014-01-08 05:00:00</td>\n",
       "      <td>4.0</td>\n",
       "      <td>4.0</td>\n",
       "      <td>4.0</td>\n",
       "      <td>2014/1/8 5:00:00</td>\n",
       "      <td>4.0</td>\n",
       "      <td>2014/1/8 5:00:00</td>\n",
       "      <td>1.0</td>\n",
       "      <td>...</td>\n",
       "      <td>2.0</td>\n",
       "      <td>2.0</td>\n",
       "      <td>1</td>\n",
       "      <td>0.0</td>\n",
       "      <td>1.726229</td>\n",
       "      <td>1.210547</td>\n",
       "      <td>1.878302</td>\n",
       "      <td>NaN</td>\n",
       "      <td>NaN</td>\n",
       "      <td>NaN</td>\n",
       "    </tr>\n",
       "    <tr>\n",
       "      <th>1</th>\n",
       "      <td>下洋坂雨量</td>\n",
       "      <td>210254</td>\n",
       "      <td>2014-01-13 22:00:00</td>\n",
       "      <td>1.0</td>\n",
       "      <td>1.0</td>\n",
       "      <td>1.0</td>\n",
       "      <td>2014/1/13 22:00:00</td>\n",
       "      <td>1.0</td>\n",
       "      <td>2014/1/13 22:00:00</td>\n",
       "      <td>1.0</td>\n",
       "      <td>...</td>\n",
       "      <td>2.0</td>\n",
       "      <td>2.0</td>\n",
       "      <td>1</td>\n",
       "      <td>0.0</td>\n",
       "      <td>0.712068</td>\n",
       "      <td>0.450738</td>\n",
       "      <td>0.638802</td>\n",
       "      <td>NaN</td>\n",
       "      <td>NaN</td>\n",
       "      <td>NaN</td>\n",
       "    </tr>\n",
       "    <tr>\n",
       "      <th>2</th>\n",
       "      <td>下洋坂雨量</td>\n",
       "      <td>210254</td>\n",
       "      <td>2014-01-14 00:00:00</td>\n",
       "      <td>1.0</td>\n",
       "      <td>1.0</td>\n",
       "      <td>1.0</td>\n",
       "      <td>2014/1/14</td>\n",
       "      <td>1.0</td>\n",
       "      <td>2014/1/14</td>\n",
       "      <td>1.0</td>\n",
       "      <td>...</td>\n",
       "      <td>2.0</td>\n",
       "      <td>2.0</td>\n",
       "      <td>1</td>\n",
       "      <td>NaN</td>\n",
       "      <td>0.780227</td>\n",
       "      <td>0.486808</td>\n",
       "      <td>0.451457</td>\n",
       "      <td>NaN</td>\n",
       "      <td>NaN</td>\n",
       "      <td>2.0</td>\n",
       "    </tr>\n",
       "    <tr>\n",
       "      <th>3</th>\n",
       "      <td>下洋坂雨量</td>\n",
       "      <td>210254</td>\n",
       "      <td>2014-01-14 01:00:00</td>\n",
       "      <td>1.0</td>\n",
       "      <td>1.0</td>\n",
       "      <td>1.0</td>\n",
       "      <td>2014/1/14 1:00:00</td>\n",
       "      <td>1.0</td>\n",
       "      <td>2014/1/14 1:00:00</td>\n",
       "      <td>1.0</td>\n",
       "      <td>...</td>\n",
       "      <td>2.0</td>\n",
       "      <td>2.0</td>\n",
       "      <td>1</td>\n",
       "      <td>0.0</td>\n",
       "      <td>0.841294</td>\n",
       "      <td>0.572785</td>\n",
       "      <td>0.277077</td>\n",
       "      <td>NaN</td>\n",
       "      <td>NaN</td>\n",
       "      <td>1.0</td>\n",
       "    </tr>\n",
       "    <tr>\n",
       "      <th>4</th>\n",
       "      <td>下洋坂雨量</td>\n",
       "      <td>210254</td>\n",
       "      <td>2014-01-14 04:00:00</td>\n",
       "      <td>1.0</td>\n",
       "      <td>1.0</td>\n",
       "      <td>1.0</td>\n",
       "      <td>2014/1/14 4:00:00</td>\n",
       "      <td>1.0</td>\n",
       "      <td>2014/1/14 4:00:00</td>\n",
       "      <td>1.0</td>\n",
       "      <td>...</td>\n",
       "      <td>2.0</td>\n",
       "      <td>2.0</td>\n",
       "      <td>1</td>\n",
       "      <td>0.0</td>\n",
       "      <td>0.274946</td>\n",
       "      <td>0.422485</td>\n",
       "      <td>1.716163</td>\n",
       "      <td>NaN</td>\n",
       "      <td>NaN</td>\n",
       "      <td>1.0</td>\n",
       "    </tr>\n",
       "  </tbody>\n",
       "</table>\n",
       "<p>5 rows × 21 columns</p>\n",
       "</div>"
      ],
      "text/plain": [
       "    NAME   SENID                 TIME    V  AVGV  MAXV                MAXT  \\\n",
       "0  下洋坂雨量  210254  2014-01-08 05:00:00  4.0   4.0   4.0    2014/1/8 5:00:00   \n",
       "1  下洋坂雨量  210254  2014-01-13 22:00:00  1.0   1.0   1.0  2014/1/13 22:00:00   \n",
       "2  下洋坂雨量  210254  2014-01-14 00:00:00  1.0   1.0   1.0           2014/1/14   \n",
       "3  下洋坂雨量  210254  2014-01-14 01:00:00  1.0   1.0   1.0   2014/1/14 1:00:00   \n",
       "4  下洋坂雨量  210254  2014-01-14 04:00:00  1.0   1.0   1.0   2014/1/14 4:00:00   \n",
       "\n",
       "   MINV                MINT    S  ...  MAXS  MINS  SPAN  MAXT_MINT    V_mean  \\\n",
       "0   4.0    2014/1/8 5:00:00  1.0  ...   2.0   2.0     1        0.0  1.726229   \n",
       "1   1.0  2014/1/13 22:00:00  1.0  ...   2.0   2.0     1        0.0  0.712068   \n",
       "2   1.0           2014/1/14  1.0  ...   2.0   2.0     1        NaN  0.780227   \n",
       "3   1.0   2014/1/14 1:00:00  1.0  ...   2.0   2.0     1        0.0  0.841294   \n",
       "4   1.0   2014/1/14 4:00:00  1.0  ...   2.0   2.0     1        0.0  0.274946   \n",
       "\n",
       "      V_std  V_zscore  V_shift1  V_diff1  V_rolling3_mean  \n",
       "0  1.210547  1.878302       NaN      NaN              NaN  \n",
       "1  0.450738  0.638802       NaN      NaN              NaN  \n",
       "2  0.486808  0.451457       NaN      NaN              2.0  \n",
       "3  0.572785  0.277077       NaN      NaN              1.0  \n",
       "4  0.422485  1.716163       NaN      NaN              1.0  \n",
       "\n",
       "[5 rows x 21 columns]"
      ]
     },
     "execution_count": 10,
     "metadata": {},
     "output_type": "execute_result"
    }
   ],
   "source": [
    "df[f'V_rolling3_mean']=df.groupby(['SENID'])['V'].transform(lambda x:x.rolling(window=3).mean())\n",
    "df.head()"
   ]
  },
  {
   "cell_type": "markdown",
   "id": "615a28ef",
   "metadata": {
    "papermill": {
     "duration": 0.004386,
     "end_time": "2025-03-12T10:33:24.720819",
     "exception": false,
     "start_time": "2025-03-12T10:33:24.716433",
     "status": "completed"
    },
    "tags": []
   },
   "source": [
    "## 指数加权移动平均"
   ]
  },
  {
   "cell_type": "code",
   "execution_count": 11,
   "id": "865474f0",
   "metadata": {
    "execution": {
     "iopub.execute_input": "2025-03-12T10:33:24.731282Z",
     "iopub.status.busy": "2025-03-12T10:33:24.730935Z",
     "iopub.status.idle": "2025-03-12T10:33:24.958284Z",
     "shell.execute_reply": "2025-03-12T10:33:24.956824Z"
    },
    "papermill": {
     "duration": 0.234928,
     "end_time": "2025-03-12T10:33:24.960227",
     "exception": false,
     "start_time": "2025-03-12T10:33:24.725299",
     "status": "completed"
    },
    "tags": []
   },
   "outputs": [
    {
     "data": {
      "text/html": [
       "<div>\n",
       "<style scoped>\n",
       "    .dataframe tbody tr th:only-of-type {\n",
       "        vertical-align: middle;\n",
       "    }\n",
       "\n",
       "    .dataframe tbody tr th {\n",
       "        vertical-align: top;\n",
       "    }\n",
       "\n",
       "    .dataframe thead th {\n",
       "        text-align: right;\n",
       "    }\n",
       "</style>\n",
       "<table border=\"1\" class=\"dataframe\">\n",
       "  <thead>\n",
       "    <tr style=\"text-align: right;\">\n",
       "      <th></th>\n",
       "      <th>NAME</th>\n",
       "      <th>SENID</th>\n",
       "      <th>TIME</th>\n",
       "      <th>V</th>\n",
       "      <th>AVGV</th>\n",
       "      <th>MAXV</th>\n",
       "      <th>MAXT</th>\n",
       "      <th>MINV</th>\n",
       "      <th>MINT</th>\n",
       "      <th>S</th>\n",
       "      <th>...</th>\n",
       "      <th>MINS</th>\n",
       "      <th>SPAN</th>\n",
       "      <th>MAXT_MINT</th>\n",
       "      <th>V_mean</th>\n",
       "      <th>V_std</th>\n",
       "      <th>V_zscore</th>\n",
       "      <th>V_shift1</th>\n",
       "      <th>V_diff1</th>\n",
       "      <th>V_rolling3_mean</th>\n",
       "      <th>V_ewm005_mean</th>\n",
       "    </tr>\n",
       "  </thead>\n",
       "  <tbody>\n",
       "    <tr>\n",
       "      <th>0</th>\n",
       "      <td>下洋坂雨量</td>\n",
       "      <td>210254</td>\n",
       "      <td>2014-01-08 05:00:00</td>\n",
       "      <td>4.0</td>\n",
       "      <td>4.0</td>\n",
       "      <td>4.0</td>\n",
       "      <td>2014/1/8 5:00:00</td>\n",
       "      <td>4.0</td>\n",
       "      <td>2014/1/8 5:00:00</td>\n",
       "      <td>1.0</td>\n",
       "      <td>...</td>\n",
       "      <td>2.0</td>\n",
       "      <td>1</td>\n",
       "      <td>0.0</td>\n",
       "      <td>1.726229</td>\n",
       "      <td>1.210547</td>\n",
       "      <td>1.878302</td>\n",
       "      <td>NaN</td>\n",
       "      <td>NaN</td>\n",
       "      <td>NaN</td>\n",
       "      <td>4.000000</td>\n",
       "    </tr>\n",
       "    <tr>\n",
       "      <th>1</th>\n",
       "      <td>下洋坂雨量</td>\n",
       "      <td>210254</td>\n",
       "      <td>2014-01-13 22:00:00</td>\n",
       "      <td>1.0</td>\n",
       "      <td>1.0</td>\n",
       "      <td>1.0</td>\n",
       "      <td>2014/1/13 22:00:00</td>\n",
       "      <td>1.0</td>\n",
       "      <td>2014/1/13 22:00:00</td>\n",
       "      <td>1.0</td>\n",
       "      <td>...</td>\n",
       "      <td>2.0</td>\n",
       "      <td>1</td>\n",
       "      <td>0.0</td>\n",
       "      <td>0.712068</td>\n",
       "      <td>0.450738</td>\n",
       "      <td>0.638802</td>\n",
       "      <td>NaN</td>\n",
       "      <td>NaN</td>\n",
       "      <td>NaN</td>\n",
       "      <td>2.461538</td>\n",
       "    </tr>\n",
       "    <tr>\n",
       "      <th>2</th>\n",
       "      <td>下洋坂雨量</td>\n",
       "      <td>210254</td>\n",
       "      <td>2014-01-14 00:00:00</td>\n",
       "      <td>1.0</td>\n",
       "      <td>1.0</td>\n",
       "      <td>1.0</td>\n",
       "      <td>2014/1/14</td>\n",
       "      <td>1.0</td>\n",
       "      <td>2014/1/14</td>\n",
       "      <td>1.0</td>\n",
       "      <td>...</td>\n",
       "      <td>2.0</td>\n",
       "      <td>1</td>\n",
       "      <td>NaN</td>\n",
       "      <td>0.780227</td>\n",
       "      <td>0.486808</td>\n",
       "      <td>0.451457</td>\n",
       "      <td>NaN</td>\n",
       "      <td>NaN</td>\n",
       "      <td>2.0</td>\n",
       "      <td>1.949167</td>\n",
       "    </tr>\n",
       "    <tr>\n",
       "      <th>3</th>\n",
       "      <td>下洋坂雨量</td>\n",
       "      <td>210254</td>\n",
       "      <td>2014-01-14 01:00:00</td>\n",
       "      <td>1.0</td>\n",
       "      <td>1.0</td>\n",
       "      <td>1.0</td>\n",
       "      <td>2014/1/14 1:00:00</td>\n",
       "      <td>1.0</td>\n",
       "      <td>2014/1/14 1:00:00</td>\n",
       "      <td>1.0</td>\n",
       "      <td>...</td>\n",
       "      <td>2.0</td>\n",
       "      <td>1</td>\n",
       "      <td>0.0</td>\n",
       "      <td>0.841294</td>\n",
       "      <td>0.572785</td>\n",
       "      <td>0.277077</td>\n",
       "      <td>NaN</td>\n",
       "      <td>NaN</td>\n",
       "      <td>1.0</td>\n",
       "      <td>1.693319</td>\n",
       "    </tr>\n",
       "    <tr>\n",
       "      <th>4</th>\n",
       "      <td>下洋坂雨量</td>\n",
       "      <td>210254</td>\n",
       "      <td>2014-01-14 04:00:00</td>\n",
       "      <td>1.0</td>\n",
       "      <td>1.0</td>\n",
       "      <td>1.0</td>\n",
       "      <td>2014/1/14 4:00:00</td>\n",
       "      <td>1.0</td>\n",
       "      <td>2014/1/14 4:00:00</td>\n",
       "      <td>1.0</td>\n",
       "      <td>...</td>\n",
       "      <td>2.0</td>\n",
       "      <td>1</td>\n",
       "      <td>0.0</td>\n",
       "      <td>0.274946</td>\n",
       "      <td>0.422485</td>\n",
       "      <td>1.716163</td>\n",
       "      <td>NaN</td>\n",
       "      <td>NaN</td>\n",
       "      <td>1.0</td>\n",
       "      <td>1.540078</td>\n",
       "    </tr>\n",
       "  </tbody>\n",
       "</table>\n",
       "<p>5 rows × 22 columns</p>\n",
       "</div>"
      ],
      "text/plain": [
       "    NAME   SENID                 TIME    V  AVGV  MAXV                MAXT  \\\n",
       "0  下洋坂雨量  210254  2014-01-08 05:00:00  4.0   4.0   4.0    2014/1/8 5:00:00   \n",
       "1  下洋坂雨量  210254  2014-01-13 22:00:00  1.0   1.0   1.0  2014/1/13 22:00:00   \n",
       "2  下洋坂雨量  210254  2014-01-14 00:00:00  1.0   1.0   1.0           2014/1/14   \n",
       "3  下洋坂雨量  210254  2014-01-14 01:00:00  1.0   1.0   1.0   2014/1/14 1:00:00   \n",
       "4  下洋坂雨量  210254  2014-01-14 04:00:00  1.0   1.0   1.0   2014/1/14 4:00:00   \n",
       "\n",
       "   MINV                MINT    S  ...  MINS  SPAN  MAXT_MINT    V_mean  \\\n",
       "0   4.0    2014/1/8 5:00:00  1.0  ...   2.0     1        0.0  1.726229   \n",
       "1   1.0  2014/1/13 22:00:00  1.0  ...   2.0     1        0.0  0.712068   \n",
       "2   1.0           2014/1/14  1.0  ...   2.0     1        NaN  0.780227   \n",
       "3   1.0   2014/1/14 1:00:00  1.0  ...   2.0     1        0.0  0.841294   \n",
       "4   1.0   2014/1/14 4:00:00  1.0  ...   2.0     1        0.0  0.274946   \n",
       "\n",
       "      V_std  V_zscore  V_shift1  V_diff1  V_rolling3_mean  V_ewm005_mean  \n",
       "0  1.210547  1.878302       NaN      NaN              NaN       4.000000  \n",
       "1  0.450738  0.638802       NaN      NaN              NaN       2.461538  \n",
       "2  0.486808  0.451457       NaN      NaN              2.0       1.949167  \n",
       "3  0.572785  0.277077       NaN      NaN              1.0       1.693319  \n",
       "4  0.422485  1.716163       NaN      NaN              1.0       1.540078  \n",
       "\n",
       "[5 rows x 22 columns]"
      ]
     },
     "execution_count": 11,
     "metadata": {},
     "output_type": "execute_result"
    }
   ],
   "source": [
    "df[f'V_ewm005_mean']=df.groupby(['SENID'])['V'].transform(lambda x:x.ewm(alpha=0.05).mean())\n",
    "df.head()"
   ]
  },
  {
   "cell_type": "markdown",
   "id": "356f42ab",
   "metadata": {
    "papermill": {
     "duration": 0.004788,
     "end_time": "2025-03-12T10:33:24.970814",
     "exception": false,
     "start_time": "2025-03-12T10:33:24.966026",
     "status": "completed"
    },
    "tags": []
   },
   "source": [
    "## 当然也可以对上面几种情况进行组合,例如Zscore的滑动窗口、Zscore的指数加权移动平均.\n",
    "\n",
    "我们可以看看它们的相关性,如果相关性越小,说明我们构造的特征越有效。我们也可以将这些操作应用于其他特征。"
   ]
  },
  {
   "cell_type": "code",
   "execution_count": 12,
   "id": "9949da53",
   "metadata": {
    "execution": {
     "iopub.execute_input": "2025-03-12T10:33:24.983441Z",
     "iopub.status.busy": "2025-03-12T10:33:24.983054Z",
     "iopub.status.idle": "2025-03-12T10:33:25.483523Z",
     "shell.execute_reply": "2025-03-12T10:33:25.482612Z"
    },
    "papermill": {
     "duration": 0.508667,
     "end_time": "2025-03-12T10:33:25.484903",
     "exception": false,
     "start_time": "2025-03-12T10:33:24.976236",
     "status": "completed"
    },
    "tags": []
   },
   "outputs": [
    {
     "data": {
      "text/html": [
       "<div>\n",
       "<style scoped>\n",
       "    .dataframe tbody tr th:only-of-type {\n",
       "        vertical-align: middle;\n",
       "    }\n",
       "\n",
       "    .dataframe tbody tr th {\n",
       "        vertical-align: top;\n",
       "    }\n",
       "\n",
       "    .dataframe thead th {\n",
       "        text-align: right;\n",
       "    }\n",
       "</style>\n",
       "<table border=\"1\" class=\"dataframe\">\n",
       "  <thead>\n",
       "    <tr style=\"text-align: right;\">\n",
       "      <th></th>\n",
       "      <th>V</th>\n",
       "      <th>V_zscore</th>\n",
       "      <th>V_shift1</th>\n",
       "      <th>V_diff1</th>\n",
       "      <th>V_rolling3_mean</th>\n",
       "      <th>V_ewm005_mean</th>\n",
       "    </tr>\n",
       "  </thead>\n",
       "  <tbody>\n",
       "    <tr>\n",
       "      <th>V</th>\n",
       "      <td>1.000000</td>\n",
       "      <td>0.068874</td>\n",
       "      <td>0.003999</td>\n",
       "      <td>0.710102</td>\n",
       "      <td>0.965572</td>\n",
       "      <td>0.771453</td>\n",
       "    </tr>\n",
       "    <tr>\n",
       "      <th>V_zscore</th>\n",
       "      <td>0.068874</td>\n",
       "      <td>1.000000</td>\n",
       "      <td>0.000435</td>\n",
       "      <td>0.049101</td>\n",
       "      <td>0.059842</td>\n",
       "      <td>0.042402</td>\n",
       "    </tr>\n",
       "    <tr>\n",
       "      <th>V_shift1</th>\n",
       "      <td>0.003999</td>\n",
       "      <td>0.000435</td>\n",
       "      <td>1.000000</td>\n",
       "      <td>-0.701253</td>\n",
       "      <td>0.004089</td>\n",
       "      <td>0.004163</td>\n",
       "    </tr>\n",
       "    <tr>\n",
       "      <th>V_diff1</th>\n",
       "      <td>0.710102</td>\n",
       "      <td>0.049101</td>\n",
       "      <td>-0.701253</td>\n",
       "      <td>1.000000</td>\n",
       "      <td>0.685515</td>\n",
       "      <td>0.547069</td>\n",
       "    </tr>\n",
       "    <tr>\n",
       "      <th>V_rolling3_mean</th>\n",
       "      <td>0.965572</td>\n",
       "      <td>0.059842</td>\n",
       "      <td>0.004089</td>\n",
       "      <td>0.685515</td>\n",
       "      <td>1.000000</td>\n",
       "      <td>0.818844</td>\n",
       "    </tr>\n",
       "    <tr>\n",
       "      <th>V_ewm005_mean</th>\n",
       "      <td>0.771453</td>\n",
       "      <td>0.042402</td>\n",
       "      <td>0.004163</td>\n",
       "      <td>0.547069</td>\n",
       "      <td>0.818844</td>\n",
       "      <td>1.000000</td>\n",
       "    </tr>\n",
       "  </tbody>\n",
       "</table>\n",
       "</div>"
      ],
      "text/plain": [
       "                        V  V_zscore  V_shift1   V_diff1  V_rolling3_mean  \\\n",
       "V                1.000000  0.068874  0.003999  0.710102         0.965572   \n",
       "V_zscore         0.068874  1.000000  0.000435  0.049101         0.059842   \n",
       "V_shift1         0.003999  0.000435  1.000000 -0.701253         0.004089   \n",
       "V_diff1          0.710102  0.049101 -0.701253  1.000000         0.685515   \n",
       "V_rolling3_mean  0.965572  0.059842  0.004089  0.685515         1.000000   \n",
       "V_ewm005_mean    0.771453  0.042402  0.004163  0.547069         0.818844   \n",
       "\n",
       "                 V_ewm005_mean  \n",
       "V                     0.771453  \n",
       "V_zscore              0.042402  \n",
       "V_shift1              0.004163  \n",
       "V_diff1               0.547069  \n",
       "V_rolling3_mean       0.818844  \n",
       "V_ewm005_mean         1.000000  "
      ]
     },
     "execution_count": 12,
     "metadata": {},
     "output_type": "execute_result"
    }
   ],
   "source": [
    "df[['V','V_zscore','V_shift1','V_diff1','V_rolling3_mean','V_ewm005_mean']].corr()"
   ]
  },
  {
   "cell_type": "markdown",
   "id": "6f3a7f8e",
   "metadata": {
    "papermill": {
     "duration": 0.004715,
     "end_time": "2025-03-12T10:33:25.494856",
     "exception": false,
     "start_time": "2025-03-12T10:33:25.490141",
     "status": "completed"
    },
    "tags": []
   },
   "source": [
    "## 我们的目的是构造每个时刻的特征,所以还要对刚才构造好的特征进行groupby操作."
   ]
  },
  {
   "cell_type": "code",
   "execution_count": 13,
   "id": "0e1ff4fe",
   "metadata": {
    "execution": {
     "iopub.execute_input": "2025-03-12T10:33:25.505870Z",
     "iopub.status.busy": "2025-03-12T10:33:25.505478Z",
     "iopub.status.idle": "2025-03-12T10:33:27.514924Z",
     "shell.execute_reply": "2025-03-12T10:33:27.513596Z"
    },
    "papermill": {
     "duration": 2.016786,
     "end_time": "2025-03-12T10:33:27.516425",
     "exception": false,
     "start_time": "2025-03-12T10:33:25.499639",
     "status": "completed"
    },
    "tags": []
   },
   "outputs": [
    {
     "data": {
      "text/html": [
       "<div>\n",
       "<style scoped>\n",
       "    .dataframe tbody tr th:only-of-type {\n",
       "        vertical-align: middle;\n",
       "    }\n",
       "\n",
       "    .dataframe tbody tr th {\n",
       "        vertical-align: top;\n",
       "    }\n",
       "\n",
       "    .dataframe thead th {\n",
       "        text-align: right;\n",
       "    }\n",
       "</style>\n",
       "<table border=\"1\" class=\"dataframe\">\n",
       "  <thead>\n",
       "    <tr style=\"text-align: right;\">\n",
       "      <th></th>\n",
       "      <th>TIME</th>\n",
       "      <th>TIME_transform_V_min</th>\n",
       "      <th>TIME_transform_V_mean</th>\n",
       "      <th>TIME_transform_V_std</th>\n",
       "      <th>TIME_transform_V_max</th>\n",
       "      <th>TIME_transform_V_median</th>\n",
       "      <th>TIME_transform_V_skew</th>\n",
       "      <th>TIME_transform_V_count</th>\n",
       "      <th>TIME_transform_V_nunique</th>\n",
       "    </tr>\n",
       "  </thead>\n",
       "  <tbody>\n",
       "    <tr>\n",
       "      <th>0</th>\n",
       "      <td>2014-01-01 00:00:00</td>\n",
       "      <td>0.0</td>\n",
       "      <td>0.0</td>\n",
       "      <td>0.0</td>\n",
       "      <td>0.0</td>\n",
       "      <td>0.0</td>\n",
       "      <td>0.0</td>\n",
       "      <td>24</td>\n",
       "      <td>1</td>\n",
       "    </tr>\n",
       "    <tr>\n",
       "      <th>1</th>\n",
       "      <td>2014-01-01 01:00:00</td>\n",
       "      <td>0.0</td>\n",
       "      <td>0.0</td>\n",
       "      <td>0.0</td>\n",
       "      <td>0.0</td>\n",
       "      <td>0.0</td>\n",
       "      <td>0.0</td>\n",
       "      <td>24</td>\n",
       "      <td>1</td>\n",
       "    </tr>\n",
       "    <tr>\n",
       "      <th>2</th>\n",
       "      <td>2014-01-01 02:00:00</td>\n",
       "      <td>0.0</td>\n",
       "      <td>0.0</td>\n",
       "      <td>0.0</td>\n",
       "      <td>0.0</td>\n",
       "      <td>0.0</td>\n",
       "      <td>0.0</td>\n",
       "      <td>24</td>\n",
       "      <td>1</td>\n",
       "    </tr>\n",
       "    <tr>\n",
       "      <th>3</th>\n",
       "      <td>2014-01-01 03:00:00</td>\n",
       "      <td>0.0</td>\n",
       "      <td>0.0</td>\n",
       "      <td>0.0</td>\n",
       "      <td>0.0</td>\n",
       "      <td>0.0</td>\n",
       "      <td>0.0</td>\n",
       "      <td>24</td>\n",
       "      <td>1</td>\n",
       "    </tr>\n",
       "    <tr>\n",
       "      <th>4</th>\n",
       "      <td>2014-01-01 04:00:00</td>\n",
       "      <td>0.0</td>\n",
       "      <td>0.0</td>\n",
       "      <td>0.0</td>\n",
       "      <td>0.0</td>\n",
       "      <td>0.0</td>\n",
       "      <td>0.0</td>\n",
       "      <td>24</td>\n",
       "      <td>1</td>\n",
       "    </tr>\n",
       "  </tbody>\n",
       "</table>\n",
       "</div>"
      ],
      "text/plain": [
       "                  TIME  TIME_transform_V_min  TIME_transform_V_mean  \\\n",
       "0  2014-01-01 00:00:00                   0.0                    0.0   \n",
       "1  2014-01-01 01:00:00                   0.0                    0.0   \n",
       "2  2014-01-01 02:00:00                   0.0                    0.0   \n",
       "3  2014-01-01 03:00:00                   0.0                    0.0   \n",
       "4  2014-01-01 04:00:00                   0.0                    0.0   \n",
       "\n",
       "   TIME_transform_V_std  TIME_transform_V_max  TIME_transform_V_median  \\\n",
       "0                   0.0                   0.0                      0.0   \n",
       "1                   0.0                   0.0                      0.0   \n",
       "2                   0.0                   0.0                      0.0   \n",
       "3                   0.0                   0.0                      0.0   \n",
       "4                   0.0                   0.0                      0.0   \n",
       "\n",
       "   TIME_transform_V_skew  TIME_transform_V_count  TIME_transform_V_nunique  \n",
       "0                    0.0                      24                         1  \n",
       "1                    0.0                      24                         1  \n",
       "2                    0.0                      24                         1  \n",
       "3                    0.0                      24                         1  \n",
       "4                    0.0                      24                         1  "
      ]
     },
     "execution_count": 13,
     "metadata": {},
     "output_type": "execute_result"
    }
   ],
   "source": [
    "STATS=['min','mean','std','max','median','skew','count','nunique']\n",
    "g_col='TIME'\n",
    "t_col='V'\n",
    "agg_df = df[[g_col,t_col]].groupby(g_col).agg(STATS).reset_index()\n",
    "agg_df.columns = ['_'.join(x) for x in agg_df.columns]\n",
    "agg_df.columns = [ f'{g_col}_transform_{x}' for x in agg_df.columns if x!=g_col]\n",
    "agg_df=agg_df.rename(columns={f\"{g_col}_transform_{g_col}_\":g_col})\n",
    "agg_df.head()"
   ]
  },
  {
   "cell_type": "markdown",
   "id": "a1622d60",
   "metadata": {
    "papermill": {
     "duration": 0.004871,
     "end_time": "2025-03-12T10:33:27.527183",
     "exception": false,
     "start_time": "2025-03-12T10:33:27.522312",
     "status": "completed"
    },
    "tags": []
   },
   "source": [
    "##  下面到你了。"
   ]
  }
 ],
 "metadata": {
  "kaggle": {
   "accelerator": "none",
   "dataSources": [
    {
     "datasetId": 6775885,
     "sourceId": 10902287,
     "sourceType": "datasetVersion"
    }
   ],
   "dockerImageVersionId": 30918,
   "isGpuEnabled": false,
   "isInternetEnabled": true,
   "language": "python",
   "sourceType": "notebook"
  },
  "kernelspec": {
   "display_name": "Python 3",
   "language": "python",
   "name": "python3"
  },
  "language_info": {
   "codemirror_mode": {
    "name": "ipython",
    "version": 3
   },
   "file_extension": ".py",
   "mimetype": "text/x-python",
   "name": "python",
   "nbconvert_exporter": "python",
   "pygments_lexer": "ipython3",
   "version": "3.10.12"
  },
  "papermill": {
   "default_parameters": {},
   "duration": 68.092338,
   "end_time": "2025-03-12T10:33:28.570390",
   "environment_variables": {},
   "exception": null,
   "input_path": "__notebook__.ipynb",
   "output_path": "__notebook__.ipynb",
   "parameters": {},
   "start_time": "2025-03-12T10:32:20.478052",
   "version": "2.6.0"
  }
 },
 "nbformat": 4,
 "nbformat_minor": 5
}
